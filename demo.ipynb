{
 "cells": [
  {
   "cell_type": "code",
   "execution_count": 10,
   "id": "2e6e1550-04b5-4a73-b761-18369caf31c2",
   "metadata": {},
   "outputs": [],
   "source": [
    "from with_html import create_root, RootWidget"
   ]
  },
  {
   "cell_type": "code",
   "execution_count": 11,
   "id": "54a213a8-1d46-40c6-9bef-38a311fdfadb",
   "metadata": {},
   "outputs": [],
   "source": [
    "import anywidget\n",
    "import traitlets"
   ]
  },
  {
   "cell_type": "code",
   "execution_count": 12,
   "id": "1d333dfc-882a-4fc1-84a5-d81bbce613d0",
   "metadata": {},
   "outputs": [],
   "source": [
    "class CounterWidget(anywidget.AnyWidget):\n",
    "    _esm = \"\"\"\n",
    "    function render({ model, el }) {\n",
    "      let count = () => model.get(\"value\");\n",
    "      let btn = document.createElement(\"button\");\n",
    "      btn.innerHTML = `count is ${count()}`;\n",
    "      btn.addEventListener(\"click\", () => {\n",
    "        model.set(\"value\", count() + 1);\n",
    "        model.save_changes();\n",
    "      });\n",
    "      model.on(\"change:value\", () => {\n",
    "        btn.innerHTML = `count is ${count()}`;\n",
    "      });\n",
    "      el.appendChild(btn);\n",
    "    }\n",
    "    export default { render };\n",
    "    \"\"\"\n",
    "    value = traitlets.Int(0).tag(sync=True)"
   ]
  },
  {
   "cell_type": "code",
   "execution_count": 22,
   "id": "33e55c58-028d-494a-80f6-af2c6fe91855",
   "metadata": {
    "scrolled": true
   },
   "outputs": [
    {
     "data": {
      "application/vnd.jupyter.widget-view+json": {
       "model_id": "7a1669fdfe8247a7a9708385475c0418",
       "version_major": 2,
       "version_minor": 1
      },
      "text/plain": [
       "RootWidget()"
      ]
     },
     "execution_count": 22,
     "metadata": {},
     "output_type": "execute_result"
    }
   ],
   "source": [
    "h = create_root()\n",
    "\n",
    "def my_button(h):\n",
    "    h.button(\"submit\")\n",
    "\n",
    "counter = CounterWidget()\n",
    "\n",
    "with h.div():\n",
    "    h.h1(\"Test\")\n",
    "    h.img(src=\"https://upload.wikimedia.org/wikipedia/commons/thumb/3/3a/Cat03.jpg/1200px-Cat03.jpg\", width=200, height=200)\n",
    "    h.p(\"my paragraph\")\n",
    "    h(my_button)\n",
    "    with h.div(style=dict(color=\"red\")):\n",
    "        h.h1(\"AnyWidget\")\n",
    "        h(counter)\n",
    "    h.p(\"another paragraph\")\n",
    "    with h.table(style={\"border\": \"1px solid red\"}):\n",
    "        with h.tr():\n",
    "            h.th(\"Column 1\")\n",
    "            h.th(\"Column 2\")\n",
    "        with h.tr():\n",
    "            h.td(\"Value 1\")\n",
    "            h.td(\"Value 2\")\n",
    "\n",
    "w = RootWidget(h.root)\n",
    "w"
   ]
  },
  {
   "cell_type": "code",
   "execution_count": 23,
   "id": "46655227-2847-47d6-8e8b-79e5b7c153ec",
   "metadata": {},
   "outputs": [
    {
     "data": {
      "application/vnd.jupyter.widget-view+json": {
       "model_id": "d574d6770f414f00ad36d079d566bb4e",
       "version_major": 2,
       "version_minor": 1
      },
      "text/plain": [
       "CounterWidget(value=3)"
      ]
     },
     "execution_count": 23,
     "metadata": {},
     "output_type": "execute_result"
    }
   ],
   "source": [
    "counter"
   ]
  },
  {
   "cell_type": "code",
   "execution_count": null,
   "id": "4e7fd188-43ff-40e6-a9cb-a11dca90382d",
   "metadata": {},
   "outputs": [],
   "source": []
  },
  {
   "cell_type": "code",
   "execution_count": null,
   "id": "ed8019d4-d196-4a55-a066-554fb69c2667",
   "metadata": {},
   "outputs": [],
   "source": []
  }
 ],
 "metadata": {
  "kernelspec": {
   "display_name": "Python 3 (ipykernel)",
   "language": "python",
   "name": "python3"
  },
  "language_info": {
   "codemirror_mode": {
    "name": "ipython",
    "version": 3
   },
   "file_extension": ".py",
   "mimetype": "text/x-python",
   "name": "python",
   "nbconvert_exporter": "python",
   "pygments_lexer": "ipython3",
   "version": "3.12.4"
  }
 },
 "nbformat": 4,
 "nbformat_minor": 5
}
