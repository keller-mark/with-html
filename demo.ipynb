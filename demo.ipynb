{
 "cells": [
  {
   "cell_type": "code",
   "execution_count": 9,
   "id": "2e6e1550-04b5-4a73-b761-18369caf31c2",
   "metadata": {},
   "outputs": [],
   "source": [
    "from with_html import create_root, RootWidget"
   ]
  },
  {
   "cell_type": "code",
   "execution_count": 18,
   "id": "33e55c58-028d-494a-80f6-af2c6fe91855",
   "metadata": {},
   "outputs": [
    {
     "data": {
      "application/vnd.jupyter.widget-view+json": {
       "model_id": "e439d755887740ecb36ae5fecbda1fb4",
       "version_major": 2,
       "version_minor": 1
      },
      "text/plain": [
       "RootWidget()"
      ]
     },
     "execution_count": 18,
     "metadata": {},
     "output_type": "execute_result"
    }
   ],
   "source": [
    "h = create_root()\n",
    "\n",
    "def my_button(h):\n",
    "    h.button(\"submit\")\n",
    "\n",
    "with h.div():\n",
    "    h.h1(\"Test\")\n",
    "    h.img(src=\"https://upload.wikimedia.org/wikipedia/commons/thumb/3/3a/Cat03.jpg/1200px-Cat03.jpg\", width=200, height=200)\n",
    "    h.p(\"my paragraph\")\n",
    "    h(my_button)\n",
    "    h.p(\"another paragraph\")\n",
    "    with h.table(style={\"border\": \"1px solid red\"}):\n",
    "        with h.tr():\n",
    "            h.th(\"Column 1\")\n",
    "            h.th(\"Column 2\")\n",
    "        with h.tr():\n",
    "            h.td(\"Value 1\")\n",
    "            h.td(\"Value 2\")\n",
    "\n",
    "w = RootWidget(h.root)\n",
    "w"
   ]
  },
  {
   "cell_type": "code",
   "execution_count": null,
   "id": "46655227-2847-47d6-8e8b-79e5b7c153ec",
   "metadata": {},
   "outputs": [],
   "source": []
  }
 ],
 "metadata": {
  "kernelspec": {
   "display_name": "Python 3 (ipykernel)",
   "language": "python",
   "name": "python3"
  },
  "language_info": {
   "codemirror_mode": {
    "name": "ipython",
    "version": 3
   },
   "file_extension": ".py",
   "mimetype": "text/x-python",
   "name": "python",
   "nbconvert_exporter": "python",
   "pygments_lexer": "ipython3",
   "version": "3.12.4"
  }
 },
 "nbformat": 4,
 "nbformat_minor": 5
}
